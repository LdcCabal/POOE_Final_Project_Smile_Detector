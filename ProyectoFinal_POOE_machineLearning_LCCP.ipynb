{
  "cells": [
    {
      "cell_type": "markdown",
      "source": [
        "# Laura del Carmen Cabal Paramo\n",
        "Programacion Orientada a Objetos y Eventos - D\n",
        "\n",
        "PROYECTO FINAL"
      ],
      "metadata": {
        "id": "jZENFC9UOLHJ"
      }
    },
    {
      "cell_type": "code",
      "execution_count": null,
      "metadata": {
        "id": "x2aQJ9IvX9WM"
      },
      "outputs": [],
      "source": [
        "from google.colab import drive\n",
        "#drive.mount('/content/drive') "
      ]
    },
    {
      "cell_type": "markdown",
      "source": [
        "Importamos todas las librerías que usaremos:"
      ],
      "metadata": {
        "id": "HhpTnu4_BhQX"
      }
    },
    {
      "cell_type": "code",
      "execution_count": null,
      "metadata": {
        "id": "sCMidFixYB9Y"
      },
      "outputs": [],
      "source": [
        "import cv2\n",
        "from google.colab.patches import cv2_imshow\n",
        "import os\n",
        "import numpy as np\n",
        "from sklearn.model_selection import train_test_split\n",
        "from skimage.feature import hog\n",
        "from sklearn.svm import SVC\n",
        "from sklearn.metrics import classification_report\n",
        "from sklearn.svm import LinearSVC\n",
        "from timeit import default_timer\n",
        "import matplotlib.pyplot as plt\n",
        "import seaborn as sns\n",
        "from sklearn.metrics import confusion_matrix\n",
        "import pandas as pd\n",
        "import joblib \n",
        "from tqdm import tqdm"
      ]
    },
    {
      "cell_type": "markdown",
      "source": [
        "Con la función listdir() obtenemos una lista de nombres de todos los archivos que podemos encontrar en cierta ruta dada. En este caso, leeremos las imágenes que usaremos para entrenar el modelo.\n"
      ],
      "metadata": {
        "id": "mh5Ceg1qBlUc"
      }
    },
    {
      "cell_type": "code",
      "execution_count": null,
      "metadata": {
        "id": "xssvpaeGYEXL"
      },
      "outputs": [],
      "source": [
        "Lista_caras_no_sonriendo  = os.listdir('/content/drive/MyDrive/SMILEs/negatives7')\n",
        "Lista_caras_sonriendo = os.listdir('/content/drive/MyDrive/SMILEs/positives7')"
      ]
    },
    {
      "cell_type": "markdown",
      "metadata": {
        "id": "Umsstf80xq8s"
      },
      "source": [
        "************************************************************************************************************************************************************************************************************************************************\n",
        "##*Caras* NO sonriendo"
      ]
    },
    {
      "cell_type": "markdown",
      "source": [
        "Antes de empezar, creamos etiquetas para cada imagen, donde 0 es no sonriendo y 1 es sonriendo.\n",
        "\n",
        "Después en una lista llamada caras_no_sonriendo, con imread leemos y anexamos cada imagen que usaremos de la carpeta de caras no sonriendo (9476 imagenes)"
      ],
      "metadata": {
        "id": "ah0Px13vCQ05"
      }
    },
    {
      "cell_type": "code",
      "execution_count": null,
      "metadata": {
        "colab": {
          "base_uri": "https://localhost:8080/"
        },
        "id": "vtxWv6qRSDu8",
        "outputId": "ddcb8d66-2381-42b0-e36a-6867d1322ca2"
      },
      "outputs": [
        {
          "output_type": "stream",
          "name": "stderr",
          "text": [
            "100%|██████████| 9476/9476 [02:56<00:00, 53.70it/s] \n"
          ]
        }
      ],
      "source": [
        "#print(Lista_caras_no_sonriendo)\n",
        "Ruta_cara_no_sonriendo = '/content/drive/MyDrive/SMILEs/negatives7/'\n",
        "Ruta_cara_sonriendo = '/content/drive/MyDrive/SMILEs/positives7/'\n",
        "\n",
        "caras_no_sonriendo = []\n",
        "\n",
        "etiquetas_no_sonriendo = np.zeros(len(Lista_caras_no_sonriendo),dtype=int)\n",
        "etiquetas_sonriendo = np.ones(len(Lista_caras_sonriendo),dtype=int)\n",
        "\n",
        "\n",
        "for i in tqdm(Lista_caras_no_sonriendo):  #[:,:.0]\n",
        "  caras_no_sonriendo.append(cv2.imread(Ruta_cara_no_sonriendo+i)) # Leemos todas las imagenes donde no se sonrie"
      ]
    },
    {
      "cell_type": "markdown",
      "source": [
        "Aqui estamos checando que forma tienen nuestras imagenes, es una matriz de 64*64 con 3 canales RGB. Pero queremos y debemos leer nuestras imagenes en blanco y negro."
      ],
      "metadata": {
        "id": "vyPmeCehC_6z"
      }
    },
    {
      "cell_type": "code",
      "execution_count": null,
      "metadata": {
        "colab": {
          "base_uri": "https://localhost:8080/"
        },
        "id": "TdF9EklGZPy9",
        "outputId": "156b5e3f-d3e9-4c66-98f1-de9071513c1c"
      },
      "outputs": [
        {
          "output_type": "execute_result",
          "data": {
            "text/plain": [
              "(64, 64, 3)"
            ]
          },
          "metadata": {},
          "execution_count": 5
        }
      ],
      "source": [
        "caras_no_sonriendo[990].shape"
      ]
    },
    {
      "cell_type": "markdown",
      "metadata": {
        "id": "6-th29hmkbEx"
      },
      "source": [
        "#############################################################################\n",
        "Nos dimos cuenta que una de las imagenes traía errores, ya que al querer hacer un ciclo for para cambiar nuestras imagenes a 2 canales (blanco y negro) , no funcionaba y esto era debido a que no tenía el tamaño o forma de las demás imágenes.\n",
        "\n",
        "Realizamos un for para checar que elemento de nuestra lista era la del error, nos imprime que numero de imagen es la que no tiene la misma forma que la de las demas."
      ]
    },
    {
      "cell_type": "code",
      "execution_count": null,
      "metadata": {
        "colab": {
          "base_uri": "https://localhost:8080/"
        },
        "id": "YdnJb7hDkqh8",
        "outputId": "2f19e8af-8fce-47dc-ab26-d0172eea5c13"
      },
      "outputs": [
        {
          "output_type": "stream",
          "name": "stdout",
          "text": [
            "991\n"
          ]
        }
      ],
      "source": [
        "for i, no_sonriendo in enumerate(caras_no_sonriendo):\n",
        "  if type(no_sonriendo) != type(np.array([1])):\n",
        "    print(i)"
      ]
    },
    {
      "cell_type": "markdown",
      "source": [
        "Eliminamos la imagen 991, ya que esta es la que trae problemas y debemos descartarla del modelo ya que no aporta nada."
      ],
      "metadata": {
        "id": "457QFavDEQUj"
      }
    },
    {
      "cell_type": "code",
      "execution_count": null,
      "metadata": {
        "colab": {
          "base_uri": "https://localhost:8080/"
        },
        "id": "YMo5RifRBcg3",
        "outputId": "c5be6ad2-afa8-4977-fecd-b9a0e642df81"
      },
      "outputs": [
        {
          "output_type": "stream",
          "name": "stdout",
          "text": [
            "Removed Element: None\n"
          ]
        },
        {
          "output_type": "execute_result",
          "data": {
            "text/plain": [
              "(64, 64, 3)"
            ]
          },
          "metadata": {},
          "execution_count": 7
        }
      ],
      "source": [
        "removed_element = caras_no_sonriendo.pop(991)\n",
        "\n",
        "print('Removed Element:', removed_element)\n",
        "caras_no_sonriendo[991].shape"
      ]
    },
    {
      "cell_type": "markdown",
      "source": [
        "Ya eliminado, convertimos las imagenes a blanco y negro."
      ],
      "metadata": {
        "id": "nLngrLSFEd9G"
      }
    },
    {
      "cell_type": "code",
      "execution_count": null,
      "metadata": {
        "id": "t5I5fiLnTq0c"
      },
      "outputs": [],
      "source": [
        "for i in range(len(caras_no_sonriendo)):\n",
        "  caras_no_sonriendo[i] = caras_no_sonriendo[i][:,:,0]"
      ]
    },
    {
      "cell_type": "markdown",
      "source": [
        "Con este for mostramos las primeras 5 imágenes solo para checar que todo esté correcto y al final imprimimos cúantas imagenes no sonriendo estaremos usando al final."
      ],
      "metadata": {
        "id": "4r0ksFM2Ejvd"
      }
    },
    {
      "cell_type": "code",
      "execution_count": null,
      "metadata": {
        "colab": {
          "base_uri": "https://localhost:8080/",
          "height": 355
        },
        "id": "p8O13bE3XAId",
        "outputId": "e2296d44-f0bc-4934-fec1-45c7492b28e2"
      },
      "outputs": [
        {
          "output_type": "display_data",
          "data": {
            "text/plain": [
              "<PIL.Image.Image image mode=L size=64x64 at 0x7F1D08095AD0>"
            ],
            "image/png": "[encoded data removed]"
          },
          "metadata": {}
        },
        {
          "output_type": "display_data",
          "data": {
            "text/plain": [
              "<PIL.Image.Image image mode=L size=64x64 at 0x7F1D08010F50>"
            ],
            "image/png": "[encoded data removed]"
          },
          "metadata": {}
        },
        {
          "output_type": "display_data",
          "data": {
            "text/plain": [
              "<PIL.Image.Image image mode=L size=64x64 at 0x7F1D080108D0>"
            ],
            "image/png": "[encoded data removed]"
          },
          "metadata": {}
        },
        {
          "output_type": "display_data",
          "data": {
            "text/plain": [
              "<PIL.Image.Image image mode=L size=64x64 at 0x7F1D08010ED0>"
            ],
            "image/png": "[encoded data removed]"
          },
          "metadata": {}
        },
        {
          "output_type": "display_data",
          "data": {
            "text/plain": [
              "<PIL.Image.Image image mode=L size=64x64 at 0x7F1D08010910>"
            ],
            "image/png": "[encoded data removed]"
          },
          "metadata": {}
        },
        {
          "output_type": "stream",
          "name": "stdout",
          "text": [
            "9475\n"
          ]
        }
      ],
      "source": [
        "for i in range(5):\n",
        "  cv2_imshow(caras_no_sonriendo[i])\n",
        "print(len(caras_no_sonriendo))"
      ]
    },
    {
      "cell_type": "markdown",
      "source": [
        "Checamos que ahora la forma de las imagenes sea la correcta."
      ],
      "metadata": {
        "id": "LuUQvGPqE8yJ"
      }
    },
    {
      "cell_type": "code",
      "execution_count": null,
      "metadata": {
        "colab": {
          "base_uri": "https://localhost:8080/"
        },
        "id": "ouEfRRShb3RG",
        "outputId": "de51ec94-077b-4419-ebf3-db94d63598a1"
      },
      "outputs": [
        {
          "output_type": "execute_result",
          "data": {
            "text/plain": [
              "(64, 64)"
            ]
          },
          "metadata": {},
          "execution_count": 10
        }
      ],
      "source": [
        "caras_no_sonriendo[0].shape"
      ]
    },
    {
      "cell_type": "markdown",
      "source": [
        "Ya que eliminamos una imagen, debemos eliminar una etiqueta."
      ],
      "metadata": {
        "id": "h2bp-9gDFG1h"
      }
    },
    {
      "cell_type": "code",
      "execution_count": null,
      "metadata": {
        "id": "476ZBRaJz76T"
      },
      "outputs": [],
      "source": [
        "#como eliminamos un elemento,\n",
        "etiquetas_no_sonriendo = np.zeros(len(caras_no_sonriendo),dtype=int)\n"
      ]
    },
    {
      "cell_type": "markdown",
      "metadata": {
        "id": "pZAvox4Jz5l9"
      },
      "source": [
        "************************************************************************************************************************************************************************************************************************************************\n",
        "## *Caras* sonriendo:"
      ]
    },
    {
      "cell_type": "markdown",
      "source": [
        "Realizamos lo mismo que con las caras no sonriendo, pero ahora solo contamos con 3700 imágenes. Hay una diferencia significativa en el numero, por lo que el modelo se va a inclinar más a predecir que sea una cara no sonriendo.\n",
        "\n",
        "En estas imágenes, no encontramos ningun error."
      ],
      "metadata": {
        "id": "wousGgVCFMrx"
      }
    },
    {
      "cell_type": "code",
      "execution_count": null,
      "metadata": {
        "colab": {
          "base_uri": "https://localhost:8080/"
        },
        "id": "l94sUBdbXFhV",
        "outputId": "9e99cd01-dc1c-4e08-df68-277d4bfabe67"
      },
      "outputs": [
        {
          "output_type": "stream",
          "name": "stderr",
          "text": [
            "100%|██████████| 3700/3700 [12:05<00:00,  5.10it/s]\n"
          ]
        }
      ],
      "source": [
        "caras_sonriendo = []\n",
        "\n",
        "for i in tqdm(Lista_caras_sonriendo):\n",
        "  caras_sonriendo.append(cv2.imread(Ruta_cara_sonriendo+i)) # Leemos todas las imagenes donde se sonrie "
      ]
    },
    {
      "cell_type": "code",
      "execution_count": null,
      "metadata": {
        "id": "_guFrgjYfmWo"
      },
      "outputs": [],
      "source": [
        "for i in range(len(caras_sonriendo)):\n",
        "  caras_sonriendo[i] = caras_sonriendo[i][:,:,0]"
      ]
    },
    {
      "cell_type": "code",
      "execution_count": null,
      "metadata": {
        "colab": {
          "base_uri": "https://localhost:8080/",
          "height": 142
        },
        "id": "7XWlBSBRvM48",
        "outputId": "82fdb4ca-7200-4f1d-e660-7a250a8863e0"
      },
      "outputs": [
        {
          "output_type": "display_data",
          "data": {
            "text/plain": [
              "<PIL.Image.Image image mode=L size=64x64 at 0x7F1D080958D0>"
            ],
            "image/png": "[encoded data removed]"
          },
          "metadata": {}
        },
        {
          "output_type": "display_data",
          "data": {
            "text/plain": [
              "<PIL.Image.Image image mode=L size=64x64 at 0x7F1D08095910>"
            ],
            "image/png": "[encoded data removed]"
          },
          "metadata": {}
        },
        {
          "output_type": "display_data",
          "data": {
            "text/plain": [
              "<PIL.Image.Image image mode=L size=64x64 at 0x7F1D08019790>"
            ],
            "image/png": "[encoded data removed]"
          },
          "metadata": {}
        },
        {
          "output_type": "display_data",
          "data": {
            "text/plain": [
              "<PIL.Image.Image image mode=L size=64x64 at 0x7F1D08095110>"
            ],
            "image/png": "[encoded data removed]"
          },
          "metadata": {}
        },
        {
          "output_type": "display_data",
          "data": {
            "text/plain": [
              "<PIL.Image.Image image mode=L size=64x64 at 0x7F1D0E8F7690>"
            ],
            "image/png": "[encoded data removed]"
          },
          "metadata": {}
        },
        {
          "output_type": "stream",
          "name": "stdout",
          "text": [
            "3700\n"
          ]
        }
      ],
      "source": [
        "for i in range(5):\n",
        "  cv2_imshow(caras_sonriendo[i])\n",
        "print(len(caras_sonriendo))"
      ]
    },
    {
      "cell_type": "code",
      "execution_count": null,
      "metadata": {
        "colab": {
          "base_uri": "https://localhost:8080/"
        },
        "id": "zKVfRJGc_xo4",
        "outputId": "8392d08a-d27e-4a1c-ac30-80b99a36e335"
      },
      "outputs": [
        {
          "output_type": "execute_result",
          "data": {
            "text/plain": [
              "(64, 64)"
            ]
          },
          "metadata": {},
          "execution_count": 15
        }
      ],
      "source": [
        "caras_sonriendo[56].shape"
      ]
    },
    {
      "cell_type": "code",
      "execution_count": null,
      "metadata": {
        "id": "uiEIPn_n__4K"
      },
      "outputs": [],
      "source": [
        "#prueba = np.squeeze(caras_no_sonriendo, axis = None)\n",
        "#prueba.shape"
      ]
    },
    {
      "cell_type": "code",
      "execution_count": null,
      "metadata": {
        "id": "DTsUBdlo9PKv"
      },
      "outputs": [],
      "source": [
        "#print(caras_sonriendo, caras_no_sonriendo.shape)"
      ]
    },
    {
      "cell_type": "code",
      "execution_count": null,
      "metadata": {
        "id": "GwrSbHY09-eC"
      },
      "outputs": [],
      "source": [
        "#for i, no_sonriendo in enumerate(caras_no_sonriendo):\n",
        "#  if no_sonriendo.shape!=caras_no_sonriendo[0].shape:\n",
        "#    print(i)"
      ]
    },
    {
      "cell_type": "markdown",
      "source": [
        "Aqui solo confirmamos que tengan la misma forma"
      ],
      "metadata": {
        "id": "Azywp49VF56q"
      }
    },
    {
      "cell_type": "code",
      "execution_count": null,
      "metadata": {
        "colab": {
          "base_uri": "https://localhost:8080/"
        },
        "id": "YNhRBA0FhgZl",
        "outputId": "3c28c036-258f-42cb-dfb5-f7d04ac85e1d"
      },
      "outputs": [
        {
          "output_type": "stream",
          "name": "stdout",
          "text": [
            "(64, 64)\n",
            "(64, 64)\n"
          ]
        }
      ],
      "source": [
        "print(caras_sonriendo[1677].shape)\n",
        "print(caras_no_sonriendo[1865].shape)"
      ]
    },
    {
      "cell_type": "markdown",
      "source": [
        "Convertimos ambas listas a un arreglo de numpy para poder concatenarlas."
      ],
      "metadata": {
        "id": "gynn6rQpF9NA"
      }
    },
    {
      "cell_type": "code",
      "execution_count": null,
      "metadata": {
        "id": "sHdedGBaAjR4"
      },
      "outputs": [],
      "source": [
        "caras_sonriendo=np.array(caras_sonriendo)\n",
        "#caras_no_sonriendo = np.delete(caras_no_sonriendo, 991)\n",
        "caras_no_sonriendo=np.array(caras_no_sonriendo)"
      ]
    },
    {
      "cell_type": "markdown",
      "source": [
        "Unimos nuestras listas de caras y de etiquetas."
      ],
      "metadata": {
        "id": "WSixWl8GGC0n"
      }
    },
    {
      "cell_type": "code",
      "execution_count": null,
      "metadata": {
        "id": "bj6fpFbZ8UXW"
      },
      "outputs": [],
      "source": [
        "caras = np.concatenate((caras_no_sonriendo,caras_sonriendo))\n",
        "etiquetas = np.concatenate((etiquetas_no_sonriendo,etiquetas_sonriendo))"
      ]
    },
    {
      "cell_type": "markdown",
      "source": [
        "##HOG"
      ],
      "metadata": {
        "id": "bIlnkar-PbNG"
      }
    },
    {
      "cell_type": "markdown",
      "source": [
        "El histograma de gradientes orientados (HOG) nos ayuda a describir caracteristicas que nos ayuden a detectar objetos. La técnica consiste en obtener las ocurrencias de orientación de gradiente en partes localizadas de una imagen. \n",
        "Esto queda más claro si lo observamos en una imagen.\n",
        "\n",
        "![image.png](data:image/png;base64,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)"
      ],
      "metadata": {
        "id": "C2hxRFLAGpMA"
      }
    },
    {
      "cell_type": "markdown",
      "source": [
        "Para el proyecto, usamos estos HOG para encontrar las curvaturas y orientaciones de una sonrisa, para asi detectarla.\n",
        "\n",
        "Los HOG los utilizamos en Procesamiento Digital de Imagenes e Inteligencia Artificial principalmente."
      ],
      "metadata": {
        "id": "-noFkZLzJYe9"
      }
    },
    {
      "cell_type": "markdown",
      "source": [
        "Creamos una lista donde guardaremos los histogramas de las caras:"
      ],
      "metadata": {
        "id": "b1KVfBwFKI1N"
      }
    },
    {
      "cell_type": "code",
      "execution_count": null,
      "metadata": {
        "colab": {
          "base_uri": "https://localhost:8080/"
        },
        "id": "4aIY5HDhCVbH",
        "outputId": "3a38a214-42f9-453b-9681-5df5e00cb2e1"
      },
      "outputs": [
        {
          "output_type": "stream",
          "name": "stderr",
          "text": [
            "100%|██████████| 13175/13175 [00:29<00:00, 441.65it/s]\n"
          ]
        }
      ],
      "source": [
        "hog_caras = []\n",
        "for i in tqdm(caras):\n",
        "  hog_caras.append(hog(i,cells_per_block=(2, 2)))"
      ]
    },
    {
      "cell_type": "markdown",
      "source": [
        "Aqui solo estamos checando que datos nos arroja el histograma"
      ],
      "metadata": {
        "id": "Pl5hjSIgKoDF"
      }
    },
    {
      "cell_type": "code",
      "execution_count": null,
      "metadata": {
        "colab": {
          "base_uri": "https://localhost:8080/"
        },
        "id": "xbwJx3URCfXG",
        "outputId": "eee04473-97e9-4747-f2da-2b78981cded0"
      },
      "outputs": [
        {
          "output_type": "stream",
          "name": "stdout",
          "text": [
            "[0.20736773 0.02110211 0.         ... 0.         0.00604666 0.01173102] 1764\n",
            "[0.3393213  0.09873527 0.01097833 ... 0.00890723 0.06485609 0.21657809] 1764\n",
            "[0.22918914 0.10710255 0.07120452 ... 0.01989785 0.03971588 0.09417944] 1764\n"
          ]
        }
      ],
      "source": [
        "for i in range(3):\n",
        "  print(hog_caras[i], len(hog_caras[i]))"
      ]
    },
    {
      "cell_type": "markdown",
      "source": [
        "Para dar una idea de que estamos obteniendo, realizamos un histograma con los datos obtenidos para cada imagen. Solo estamos imprimiendo una debido a que son muchas imagenes con las cuales estamos trabajando."
      ],
      "metadata": {
        "id": "phKwik2cKwD2"
      }
    },
    {
      "cell_type": "code",
      "execution_count": null,
      "metadata": {
        "colab": {
          "base_uri": "https://localhost:8080/",
          "height": 265
        },
        "id": "E7MK3W-qCzsl",
        "outputId": "64d2482a-7b6d-4828-a9b3-6fc2d1859475"
      },
      "outputs": [
        {
          "output_type": "display_data",
          "data": {
            "text/plain": [
              "<Figure size 432x288 with 1 Axes>"
            ],
            "image/png": "[encoded data removed]"
          },
          "metadata": {
            "needs_background": "light"
          }
        }
      ],
      "source": [
        "plt.hist(hog_caras[0], rwidth = 0.9)\n",
        "plt.show()"
      ]
    },
    {
      "cell_type": "markdown",
      "metadata": {
        "id": "uQ6edknezb06"
      },
      "source": [
        "Imprimimos el tamaño de lista de etiquetas y de los histogramas. Solo para confirmar que todo esté correcto."
      ]
    },
    {
      "cell_type": "code",
      "execution_count": null,
      "metadata": {
        "colab": {
          "base_uri": "https://localhost:8080/"
        },
        "id": "xJcsb1WOzoCa",
        "outputId": "6e33301f-b6ce-46a1-e9f9-b91762ff3736"
      },
      "outputs": [
        {
          "output_type": "stream",
          "name": "stdout",
          "text": [
            "13175\n",
            "13175\n"
          ]
        }
      ],
      "source": [
        "print(len(etiquetas))\n",
        "print(len(hog_caras))"
      ]
    },
    {
      "cell_type": "markdown",
      "source": [
        "Aqui empezamos a entrenar el modelo.\n",
        "\n",
        "train_test_split() sirve para dividir arreglos o matrices en subconjuntos aleatorios de prueba y de entrenamiento.\n",
        "\n",
        "https://scikit-learn.org/stable/modules/generated/sklearn.model_selection.train_test_split.html"
      ],
      "metadata": {
        "id": "oJ0t05ApLq-z"
      }
    },
    {
      "cell_type": "code",
      "execution_count": null,
      "metadata": {
        "id": "NVjTb5HAVfWp"
      },
      "outputs": [],
      "source": [
        "X_train, X_rem, y_train, y_rem = train_test_split(hog_caras,etiquetas, train_size=0.8)\n",
        "X_valid, X_test, y_valid, y_test = train_test_split(X_rem,y_rem, test_size=0.5)"
      ]
    },
    {
      "cell_type": "code",
      "execution_count": null,
      "metadata": {
        "colab": {
          "base_uri": "https://localhost:8080/"
        },
        "id": "3YX_UVGk4Ij5",
        "outputId": "645c5b83-6e3c-4ee0-f688-e7ae91bc872b"
      },
      "outputs": [
        {
          "output_type": "stream",
          "name": "stdout",
          "text": [
            "[0.17898856 0.29395027 0.20391047 ... 0.01007102 0.0265946  0.03055594]\n"
          ]
        }
      ],
      "source": [
        "print(X_train[0])"
      ]
    },
    {
      "cell_type": "markdown",
      "source": [
        "## Máquinas de Vectores de Soporte (SVM):\n",
        "\n",
        "Los SVM son más fáciles de explicar para problemas de clasificación, es decir, estos surgen para encontrar la manera óptima de clasificar.\n",
        "\n",
        "Los vectores de soporte son los puntos que definen el margen máximo de separación del hiperplano que separa las clases.\n",
        "\n",
        "Estos se usan mayormente para machine learning, de donde surge su nombre.\n",
        "\n",
        "https://www.iartificial.net/maquinas-de-vectores-de-soporte-svm/"
      ],
      "metadata": {
        "id": "xBuLGZPCMsd8"
      }
    },
    {
      "cell_type": "markdown",
      "source": [
        "Una vez que se entrena el modelo, se realiza la prueba mediante el uso de datos que se obtienen del proceso de entrenamiento. Aqui compararamos las predicciones del modelo entrenado con los valores reales. La matriz de confusión nos ayuda a evaluar el éxito de un problema de clasificación y dónde se cometen errores (es decir, dónde se vuelve \"confuso\").\n",
        "Aqui las usamos para evaluar el éxito de nuestro problema de calificación de sonrisa y no sonrisa."
      ],
      "metadata": {
        "id": "BBoeXNHwNlon"
      }
    },
    {
      "cell_type": "code",
      "execution_count": null,
      "metadata": {
        "colab": {
          "base_uri": "https://localhost:8080/",
          "height": 488
        },
        "id": "RVkfSPlK4Mqq",
        "outputId": "9c2490c8-e397-44a8-a11c-5cfe0d13f213"
      },
      "outputs": [
        {
          "output_type": "stream",
          "name": "stdout",
          "text": [
            "              precision    recall  f1-score   support\n",
            "\n",
            "     clase 0       0.94      0.96      0.95       955\n",
            "     clase 1       0.89      0.83      0.86       362\n",
            "\n",
            "    accuracy                           0.93      1317\n",
            "   macro avg       0.92      0.90      0.91      1317\n",
            "weighted avg       0.93      0.93      0.93      1317\n",
            "\n",
            "Tiempo de entrenamiento:  1  minutos con  7.42589918900012  segundos\n"
          ]
        },
        {
          "output_type": "display_data",
          "data": {
            "text/plain": [
              "<Figure size 432x288 with 1 Axes>"
            ],
            "image/png": "[encoded data removed]"
          },
          "metadata": {
            "needs_background": "light"
          }
        }
      ],
      "source": [
        "inicio = default_timer() # Es para obtener el tiempo de entrenamiento\n",
        "svm = SVC(kernel='poly', degree= 5, class_weight='balanced').fit(X_train,y_train)\n",
        "fin =  default_timer()\n",
        "y_predict = svm.predict(X_valid) # Predecimos las etiquetas de los datos de validación\n",
        "target_names = ['clase 0', 'clase 1'] \n",
        "print(classification_report(y_valid, y_predict, target_names=target_names)) # Obtenemos metricas como: Precision, recall, f1-score, support, Accuracy\n",
        "print(\"Tiempo de entrenamiento: \", int((fin-inicio)/60), ' minutos con ', (fin-inicio)%60,' segundos') # Colocamos el tiempo en minutos y segundos\n",
        "matrix = confusion_matrix(y_valid, y_predict) # Obtenemos la matriz de confusión\n",
        "df = pd.DataFrame(matrix, index=['0','1'], columns=['0','1']) # Las siguientes lineas son para mostrar la matriz de confusión de forma gráfica\n",
        "sns.heatmap(df, annot=True, cbar=None, cmap=\"Blues\")\n",
        "plt.title(\"Matriz de confusión\"), plt.tight_layout()\n",
        "plt.ylabel(\"Clase Verdadera\"), plt.xlabel(\"Clase Predicha\")\n",
        "plt.show()"
      ]
    },
    {
      "cell_type": "code",
      "execution_count": null,
      "metadata": {
        "colab": {
          "base_uri": "https://localhost:8080/",
          "height": 488
        },
        "id": "8MVa6tS_7tUv",
        "outputId": "6ec442f9-11c5-44ef-e5ae-411c46f5b11c"
      },
      "outputs": [
        {
          "output_type": "stream",
          "name": "stdout",
          "text": [
            "              precision    recall  f1-score   support\n",
            "\n",
            "     clase 0       0.95      0.95      0.95       955\n",
            "     clase 1       0.88      0.85      0.87       362\n",
            "\n",
            "    accuracy                           0.93      1317\n",
            "   macro avg       0.91      0.90      0.91      1317\n",
            "weighted avg       0.93      0.93      0.93      1317\n",
            "\n",
            "Tiempo de entrenamiento:  1  minutos con  7.4922382700001435  segundos\n"
          ]
        },
        {
          "output_type": "display_data",
          "data": {
            "text/plain": [
              "<Figure size 432x288 with 1 Axes>"
            ],
            "image/png": "[encoded data removed]"
          },
          "metadata": {
            "needs_background": "light"
          }
        }
      ],
      "source": [
        "inicio = default_timer()\n",
        "svm_2 = SVC(C=3,class_weight='balanced').fit(X_train,y_train) # En esta maquina de soporte se usa un kernel radial\n",
        "fin =  default_timer()\n",
        "y_predict_2 = svm_2.predict(X_valid)\n",
        "print(classification_report(y_valid, y_predict_2, target_names=target_names))\n",
        "print(\"Tiempo de entrenamiento: \", int((fin-inicio)/60), ' minutos con ', (fin-inicio)%60,' segundos')\n",
        "matrix_2 = confusion_matrix(y_valid, y_predict_2)\n",
        "df_2 = pd.DataFrame(matrix_2, index=['0','1'], columns=['0','1'])\n",
        "sns.heatmap(df_2, annot=True, cbar=None, cmap=\"Blues\")\n",
        "plt.title(\"Matriz de confusión\"), plt.tight_layout()\n",
        "plt.ylabel(\"Clase Verdadera\"), plt.xlabel(\"Clase Predicha\")\n",
        "plt.show()"
      ]
    },
    {
      "cell_type": "code",
      "execution_count": null,
      "metadata": {
        "id": "EUpjzs347tRi",
        "colab": {
          "base_uri": "https://localhost:8080/",
          "height": 488
        },
        "outputId": "2a1782d6-3793-48ab-9122-402ebcb8201a"
      },
      "outputs": [
        {
          "output_type": "stream",
          "name": "stdout",
          "text": [
            "              precision    recall  f1-score   support\n",
            "\n",
            "     clase 0       0.92      0.95      0.94       955\n",
            "     clase 1       0.86      0.79      0.82       362\n",
            "\n",
            "    accuracy                           0.91      1317\n",
            "   macro avg       0.89      0.87      0.88      1317\n",
            "weighted avg       0.91      0.91      0.91      1317\n",
            "\n",
            "Tiempo de entrenamiento:  0  minutos con  1.174751045999983  segundos\n"
          ]
        },
        {
          "output_type": "display_data",
          "data": {
            "text/plain": [
              "<Figure size 432x288 with 1 Axes>"
            ],
            "image/png": "[encoded data removed]"
          },
          "metadata": {
            "needs_background": "light"
          }
        }
      ],
      "source": [
        "inicio = default_timer()\n",
        "svm_3 = LinearSVC(C=0.01).fit(X_train,y_train) # Se usa una maquina lineal\n",
        "fin =  default_timer()\n",
        "y_predict_3 = svm_3.predict(X_valid)\n",
        "print(classification_report(y_valid, y_predict_3, target_names=target_names))\n",
        "print(\"Tiempo de entrenamiento: \", int((fin-inicio)/60), ' minutos con ', (fin-inicio)%60,' segundos')\n",
        "matrix_3 = confusion_matrix(y_valid, y_predict_3)\n",
        "df_3 = pd.DataFrame(matrix_3, index=['0','1'], columns=['0','1'])\n",
        "sns.heatmap(df_3, annot=True, cbar=None, cmap=\"Blues\")\n",
        "plt.title(\"Matriz de confusión\"), plt.tight_layout()\n",
        "plt.ylabel(\"Clase Verdadera\"), plt.xlabel(\"Clase Predicha\")\n",
        "plt.show()"
      ]
    },
    {
      "cell_type": "markdown",
      "source": [
        "###Prueba de Modelo:"
      ],
      "metadata": {
        "id": "_Bh6j-992Kis"
      }
    },
    {
      "cell_type": "code",
      "source": [
        "y_predict_test = svm.predict(X_test)\n",
        "print(classification_report(y_test, y_predict_test, target_names=target_names))\n",
        "matrix_test = confusion_matrix(y_test, y_predict_test)\n",
        "df_test = pd.DataFrame(matrix_test, index=['0','1'], columns=['0','1'])\n",
        "sns.heatmap(df_test, annot=True, cbar=None, cmap=\"Blues\")\n",
        "plt.title(\"Matriz de confusión\"), plt.tight_layout()\n",
        "plt.ylabel(\"Clase Verdadera\"), plt.xlabel(\"Clase Predicha\")\n",
        "plt.show()"
      ],
      "metadata": {
        "colab": {
          "base_uri": "https://localhost:8080/",
          "height": 471
        },
        "id": "PKg8SgTJnmJ4",
        "outputId": "4a0f10fa-bf99-4647-e68b-81c8e49b9264"
      },
      "execution_count": null,
      "outputs": [
        {
          "output_type": "stream",
          "name": "stdout",
          "text": [
            "              precision    recall  f1-score   support\n",
            "\n",
            "     clase 0       0.93      0.95      0.94       950\n",
            "     clase 1       0.87      0.81      0.84       368\n",
            "\n",
            "    accuracy                           0.91      1318\n",
            "   macro avg       0.90      0.88      0.89      1318\n",
            "weighted avg       0.91      0.91      0.91      1318\n",
            "\n"
          ]
        },
        {
          "output_type": "display_data",
          "data": {
            "text/plain": [
              "<Figure size 432x288 with 1 Axes>"
            ],
            "image/png": "[encoded data removed]"
          },
          "metadata": {
            "needs_background": "light"
          }
        }
      ]
    },
    {
      "cell_type": "code",
      "source": [
        "y_predict_test_2 = svm_2.predict(X_test)\n",
        "print(classification_report(y_test, y_predict_test_2, target_names=target_names))\n",
        "matrix_test_2 = confusion_matrix(y_test, y_predict_test_2)\n",
        "df_test_2 = pd.DataFrame(matrix_test_2, index=['0','1'], columns=['0','1'])\n",
        "sns.heatmap(df_test_2, annot=True, cbar=None, cmap=\"Blues\")\n",
        "plt.title(\"Matriz de confusión\"), plt.tight_layout()\n",
        "plt.ylabel(\"Clase Verdadera\"), plt.xlabel(\"Clase Predicha\")\n",
        "plt.show()"
      ],
      "metadata": {
        "colab": {
          "base_uri": "https://localhost:8080/",
          "height": 471
        },
        "id": "T0wNM2Y0XzQY",
        "outputId": "cef2e1de-faa0-474b-9725-700b15bd9d64"
      },
      "execution_count": null,
      "outputs": [
        {
          "output_type": "stream",
          "name": "stdout",
          "text": [
            "              precision    recall  f1-score   support\n",
            "\n",
            "     clase 0       0.94      0.95      0.94       950\n",
            "     clase 1       0.86      0.84      0.85       368\n",
            "\n",
            "    accuracy                           0.92      1318\n",
            "   macro avg       0.90      0.89      0.90      1318\n",
            "weighted avg       0.92      0.92      0.92      1318\n",
            "\n"
          ]
        },
        {
          "output_type": "display_data",
          "data": {
            "text/plain": [
              "<Figure size 432x288 with 1 Axes>"
            ],
            "image/png": "[encoded data removed]"
          },
          "metadata": {
            "needs_background": "light"
          }
        }
      ]
    },
    {
      "cell_type": "code",
      "source": [
        "y_predict_test_3 = svm_3.predict(X_test)\n",
        "print(classification_report(y_test, y_predict_test_3, target_names=target_names))\n",
        "matrix_3 = confusion_matrix(y_test, y_predict_test_3)\n",
        "df_test_3 = pd.DataFrame(matrix_3, index=['0','1'], columns=['0','1'])\n",
        "sns.heatmap(df_test_3, annot=True, cbar=None, cmap=\"Blues\")\n",
        "plt.title(\"Matriz de confusión\"), plt.tight_layout()\n",
        "plt.ylabel(\"Clase Verdadera\"), plt.xlabel(\"Clase Predicha\")\n",
        "plt.show()"
      ],
      "metadata": {
        "colab": {
          "base_uri": "https://localhost:8080/",
          "height": 471
        },
        "id": "SSgI_d21XzKf",
        "outputId": "a8f8c532-4c34-4851-adf8-3e81a0c0629d"
      },
      "execution_count": null,
      "outputs": [
        {
          "output_type": "stream",
          "name": "stdout",
          "text": [
            "              precision    recall  f1-score   support\n",
            "\n",
            "     clase 0       0.92      0.96      0.94       950\n",
            "     clase 1       0.87      0.79      0.83       368\n",
            "\n",
            "    accuracy                           0.91      1318\n",
            "   macro avg       0.90      0.87      0.88      1318\n",
            "weighted avg       0.91      0.91      0.91      1318\n",
            "\n"
          ]
        },
        {
          "output_type": "display_data",
          "data": {
            "text/plain": [
              "<Figure size 432x288 with 1 Axes>"
            ],
            "image/png": "[encoded data removed]"
          },
          "metadata": {
            "needs_background": "light"
          }
        }
      ]
    },
    {
      "cell_type": "markdown",
      "source": [
        "##Guardamos modelo para usarlo después"
      ],
      "metadata": {
        "id": "NdLfd9PjX6Yv"
      }
    },
    {
      "cell_type": "markdown",
      "source": [
        "Una vez que ya se entrenó y tiene listo el modelo, lo guardamos para usarlo después."
      ],
      "metadata": {
        "id": "_P-WmoVgOUbX"
      }
    },
    {
      "cell_type": "code",
      "source": [
        "joblib.dump(svm, 'SMILEs.pkl')"
      ],
      "metadata": {
        "colab": {
          "base_uri": "https://localhost:8080/"
        },
        "id": "PXOS1JNnXzEM",
        "outputId": "56ef3388-e877-4845-e877-d9ec24f02859"
      },
      "execution_count": null,
      "outputs": [
        {
          "output_type": "execute_result",
          "data": {
            "text/plain": [
              "['SMILEs.pkl']"
            ]
          },
          "metadata": {},
          "execution_count": 35
        }
      ]
    },
    {
      "cell_type": "markdown",
      "source": [
        "Usando el modelo y 2 imagenes prueba para probar el modelo."
      ],
      "metadata": {
        "id": "WMac0tpuOb21"
      }
    },
    {
      "cell_type": "code",
      "source": [
        "modelo = joblib.load('/content/drive/MyDrive/SMILEs/SMILEs.pkl')\n",
        "Imagen_prueba_1 = cv2.imread('/content/drive/MyDrive/SMILEs/negatives7/9830.jpg')\n",
        "Imagen_prueba_2 = cv2.imread('/content/drive/MyDrive/SMILEs/positives7/10080.jpg')"
      ],
      "metadata": {
        "id": "K8nrdkufXy3M"
      },
      "execution_count": null,
      "outputs": []
    },
    {
      "cell_type": "markdown",
      "source": [
        "##Prueba de modelo"
      ],
      "metadata": {
        "id": "AY2pkg2jYGDk"
      }
    },
    {
      "cell_type": "markdown",
      "source": [
        "Usamos el modelo y la imagen prueba de no sonriendo para detectar si funciona el modelo, nos imprime 0 si no sonrie y 1 si sí."
      ],
      "metadata": {
        "id": "rT5rQCd5Ol4S"
      }
    },
    {
      "cell_type": "code",
      "source": [
        "cv2_imshow(Imagen_prueba_1)\n",
        "#hog_1 = [hog(Imagen_prueba_1)] #Si se usa el primer clasificador\n",
        "hog_1 = [hog(Imagen_prueba_1,cells_per_block=(2, 2))] # Si se usa el segundo clasificador\n",
        "print(modelo.predict(hog_1))"
      ],
      "metadata": {
        "colab": {
          "base_uri": "https://localhost:8080/",
          "height": 99
        },
        "id": "nseMUWJJYIxl",
        "outputId": "102a3e87-2672-4487-a777-ebe556fedcae"
      },
      "execution_count": null,
      "outputs": [
        {
          "output_type": "display_data",
          "data": {
            "text/plain": [
              "<PIL.Image.Image image mode=RGB size=64x64 at 0x7F1D05023A90>"
            ],
            "image/png": "[encoded data removed]"
          },
          "metadata": {}
        },
        {
          "output_type": "stream",
          "name": "stdout",
          "text": [
            "[0]\n"
          ]
        }
      ]
    },
    {
      "cell_type": "code",
      "source": [
        "cv2_imshow(Imagen_prueba_2)\n",
        "#hog_2 = [hog(Imagen_prueba_2)] #Si se usa el primer clasificador\n",
        "hog_2 = [hog(Imagen_prueba_2,cells_per_block=(2, 2))] # Si se usa el segundo clasificador\n",
        "print(modelo.predict(hog_2))"
      ],
      "metadata": {
        "colab": {
          "base_uri": "https://localhost:8080/",
          "height": 99
        },
        "id": "mlsOwE-eYIdu",
        "outputId": "364e31f5-3a7f-41d8-9d84-0bc989b9ac8f"
      },
      "execution_count": null,
      "outputs": [
        {
          "output_type": "display_data",
          "data": {
            "text/plain": [
              "<PIL.Image.Image image mode=RGB size=64x64 at 0x7F1D04FD3DD0>"
            ],
            "image/png": "[encoded data removed]"
          },
          "metadata": {}
        },
        {
          "output_type": "stream",
          "name": "stdout",
          "text": [
            "[1]\n"
          ]
        }
      ]
    },
    {
      "cell_type": "markdown",
      "source": [
        "##Detectar Cara"
      ],
      "metadata": {
        "id": "1WBaL9s7vysi"
      }
    },
    {
      "cell_type": "markdown",
      "source": [
        "Intenté detcatar la cara usando cascade, el siguiente código es algo que encontré en internet, pero no logré hacer que me funcionara. Solo lo dejaré para intentar en algun futuro a ver si ahora si puedo lograr que funcione."
      ],
      "metadata": {
        "id": "dr1ezLYkO6T7"
      }
    },
    {
      "cell_type": "code",
      "source": [
        "cascade_face = cv2.CascadeClassifier(cv2.data.haarcascades + 'haarcascade_frontalface_default.xml')#cv2.CascadeClassifier('haarcascade_frontalface_default.xml')\n",
        "cascade_eye = cv2.CascadeClassifier(cv2.data.haarcascades + 'haarcascade_eye.xml')#cv2.CascadeClassifier('haarcascade_eye.xml') \n",
        "cascade_smile = cv2.CascadeClassifier(cv2.data.haarcascades + 'haarcascade_smile.xml')\n",
        "#face_cascade = cv2.CascadeClassifier(cv2.data.haarcascades + 'haarcascade_frontalface_default.xml')\n",
        "#eye_cascade = cv2.CascadeClassifier(cv2.data.haarcascades + 'haarcascade_eye.xml')"
      ],
      "metadata": {
        "id": "hObxDMqGIvoT"
      },
      "execution_count": null,
      "outputs": []
    },
    {
      "cell_type": "code",
      "source": [
        "#from google.colab.patches import cv2_imshow\n",
        "\n",
        "def detection(grayscale, img):\n",
        "    face = cascade_face.detectMultiScale(grayscale, 1.3, 5)\n",
        "    for (x_face, y_face, w_face, h_face) in face:\n",
        "        cv2.rectangle(img, (x_face, y_face), (x_face+w_face, y_face+h_face), (255, 130, 0), 2)\n",
        "        ri_grayscale = grayscale[y_face:y_face+h_face, x_face:x_face+w_face]\n",
        "        ri_color = img[y_face:y_face+h_face, x_face:x_face+w_face] \n",
        "        eye = cascade_eye.detectMultiScale(ri_grayscale, 1.2, 18) \n",
        "        for (x_eye, y_eye, w_eye, h_eye) in eye:\n",
        "            cv2.rectangle(ri_color,(x_eye, y_eye),(x_eye+w_eye, y_eye+h_eye), (0, 180, 60), 2) \n",
        "        smile = cascade_smile.detectMultiScale(ri_grayscale, 1.7, 20)\n",
        "        for (x_smile, y_smile, w_smile, h_smile) in smile: \n",
        "            cv2.rectangle(ri_color,(x_smile, y_smile),(x_smile+w_smile, y_smile+h_smile), (255, 0, 130), 2)\n",
        "    return img "
      ],
      "metadata": {
        "id": "Adn7VDTHwJSH"
      },
      "execution_count": null,
      "outputs": []
    },
    {
      "cell_type": "markdown",
      "source": [
        "##Parte de la cámara\n",
        "\n",
        "Lo que debemos hacer es:\n",
        "\n",
        "Segunda Parte: \n",
        "\n",
        "Utiliza la webcam de tu computadora y el clasificador Haar preentrenado de OpenCV, haarcascade_frontalface_default.xml, para extraer el rostro de tu cara. Dicha sección del rostro deberás transformarla a tono de grises y redimencionarla a tamaño 64x64, ya que es el tamaño de las imágenes con las cuales fue generado el clasificador en la primera parte. \n",
        "\n",
        "Extraer las características de HOG de la sección de rostro segmentada. \n",
        "\n",
        "Utilizar el mejor de tus clasificadores para hacer la predicción de “sonríe” o “no-sonríe”. Muestra en la pantalla de la webcam la etiqueta “Sonriendo” o “No-sonriendo” dependiendo del estado predicho. "
      ],
      "metadata": {
        "id": "EwLQathw7qz2"
      }
    },
    {
      "cell_type": "markdown",
      "source": [
        "Para colab, investigué cómo usar la cámara.\n",
        "\n",
        "Debemos en la parte de \"insert\", agregar un \"code snippet\" que se llama \"camara capture\", que es lo que se muestra a continuación. Al momento de correrlo, usa la camara y debes presionar capture para tomar la imagen que usaremos para probar el modelo.\n",
        "\n",
        "No logré encontrar la manera de poder hacer esto en tiempo real."
      ],
      "metadata": {
        "id": "t5ifiKSpPRZc"
      }
    },
    {
      "cell_type": "code",
      "source": [
        "from IPython.display import display, Javascript\n",
        "from google.colab.output import eval_js\n",
        "from base64 import b64decode\n",
        "\n",
        "def take_photo(filename='photo.jpg', quality=0.8):\n",
        "  js = Javascript('''\n",
        "    async function takePhoto(quality) {\n",
        "      const div = document.createElement('div');\n",
        "      const capture = document.createElement('button');\n",
        "      capture.textContent = 'Capture';\n",
        "      div.appendChild(capture);\n",
        "\n",
        "      const video = document.createElement('video');\n",
        "      video.style.display = 'block';\n",
        "      const stream = await navigator.mediaDevices.getUserMedia({video: true});\n",
        "\n",
        "      document.body.appendChild(div);\n",
        "      div.appendChild(video);\n",
        "      video.srcObject = stream;\n",
        "      await video.play();\n",
        "\n",
        "      // Resize the output to fit the video element.\n",
        "      google.colab.output.setIframeHeight(document.documentElement.scrollHeight, true);\n",
        "\n",
        "      // Wait for Capture to be clicked.\n",
        "      await new Promise((resolve) => capture.onclick = resolve);\n",
        "\n",
        "      const canvas = document.createElement('canvas');\n",
        "      canvas.width = video.videoWidth;\n",
        "      canvas.height = video.videoHeight;\n",
        "      canvas.getContext('2d').drawImage(video, 0, 0);\n",
        "      stream.getVideoTracks()[0].stop();\n",
        "      div.remove();\n",
        "      return canvas.toDataURL('image/jpeg', quality);\n",
        "    }\n",
        "    ''')\n",
        "  display(js)\n",
        "  data = eval_js('takePhoto({})'.format(quality))\n",
        "  binary = b64decode(data.split(',')[1])\n",
        "  with open(filename, 'wb') as f:\n",
        "    f.write(binary)\n",
        "  return filename"
      ],
      "metadata": {
        "id": "6HvAE4reMWdC"
      },
      "execution_count": null,
      "outputs": []
    },
    {
      "cell_type": "code",
      "source": [
        "from IPython.display import Image\n",
        "try:\n",
        "  filename = take_photo()\n",
        "  print('Saved to {}'.format(filename))\n",
        "  \n",
        "  # Show the image which was just taken.\n",
        "  display(Image(filename))\n",
        "except Exception as err:\n",
        "  # Errors will be thrown if the user does not have a webcam or if they do not\n",
        "  # grant the page permission to access it.\n",
        "  print(str(err))"
      ],
      "metadata": {
        "colab": {
          "base_uri": "https://localhost:8080/",
          "height": 515
        },
        "id": "sdlyJgriMWdD",
        "outputId": "226ebd08-717f-43ed-c8ac-60a44b9f88bc"
      },
      "execution_count": null,
      "outputs": [
        {
          "output_type": "display_data",
          "data": {
            "text/plain": [
              "<IPython.core.display.Javascript object>"
            ],
            "application/javascript": [
              "\n",
              "    async function takePhoto(quality) {\n",
              "      const div = document.createElement('div');\n",
              "      const capture = document.createElement('button');\n",
              "      capture.textContent = 'Capture';\n",
              "      div.appendChild(capture);\n",
              "\n",
              "      const video = document.createElement('video');\n",
              "      video.style.display = 'block';\n",
              "      const stream = await navigator.mediaDevices.getUserMedia({video: true});\n",
              "\n",
              "      document.body.appendChild(div);\n",
              "      div.appendChild(video);\n",
              "      video.srcObject = stream;\n",
              "      await video.play();\n",
              "\n",
              "      // Resize the output to fit the video element.\n",
              "      google.colab.output.setIframeHeight(document.documentElement.scrollHeight, true);\n",
              "\n",
              "      // Wait for Capture to be clicked.\n",
              "      await new Promise((resolve) => capture.onclick = resolve);\n",
              "\n",
              "      const canvas = document.createElement('canvas');\n",
              "      canvas.width = video.videoWidth;\n",
              "      canvas.height = video.videoHeight;\n",
              "      canvas.getContext('2d').drawImage(video, 0, 0);\n",
              "      stream.getVideoTracks()[0].stop();\n",
              "      div.remove();\n",
              "      return canvas.toDataURL('image/jpeg', quality);\n",
              "    }\n",
              "    "
            ]
          },
          "metadata": {}
        },
        {
          "output_type": "stream",
          "name": "stdout",
          "text": [
            "Saved to photo.jpg\n"
          ]
        },
        {
          "output_type": "display_data",
          "data": {
            "text/plain": [
              "<IPython.core.display.Image object>"
            ],
            "image/jpeg": "[encoded data removed]"
          },
          "metadata": {}
        }
      ]
    },
    {
      "cell_type": "markdown",
      "source": [
        "Esto es un resumen muy pequeño de lo que realizamos con todas las imagenes anteriores. La leemos donde se guardó en colab, la pasamos a blanco y negro y finalmente la redimensionamos al tamaño de todas las demás imagenes. Imprimimos o mostramos para verificar que sea correcto."
      ],
      "metadata": {
        "id": "pmedNn8uP6iY"
      }
    },
    {
      "cell_type": "code",
      "source": [
        "img = cv2.imread('/content/drive/MyDrive/SMILEs/photoprueba.jpg')\n",
        "img = img[:,:,0]\n",
        "imgcaptured_resize = cv2.resize(img, (64,64))\n",
        "cv2_imshow(imgcaptured_resize)\n",
        "print(imgcaptured_resize.shape)"
      ],
      "metadata": {
        "colab": {
          "base_uri": "https://localhost:8080/",
          "height": 99
        },
        "id": "538lwhOYNqyn",
        "outputId": "ec22507c-a582-47f5-d1ab-3b72fcf64eda"
      },
      "execution_count": null,
      "outputs": [
        {
          "output_type": "display_data",
          "data": {
            "text/plain": [
              "<PIL.Image.Image image mode=L size=64x64 at 0x7F1D04F9D950>"
            ],
            "image/png": "[encoded data removed]"
          },
          "metadata": {}
        },
        {
          "output_type": "stream",
          "name": "stdout",
          "text": [
            "(64, 64)\n"
          ]
        }
      ]
    },
    {
      "cell_type": "markdown",
      "source": [
        "Por último aplicamos el modelo."
      ],
      "metadata": {
        "id": "hUxDH8_AQch4"
      }
    },
    {
      "cell_type": "code",
      "source": [
        "cv2_imshow(imgcaptured_resize)\n",
        "#hog_1 = [hog(imgcaptured_resize)] #Si se usa el primer clasificador\n",
        "hog_1 = [hog(imgcaptured_resize,cells_per_block=(2, 2))] # Si se usa el segundo clasificador\n",
        "if modelo.predict(hog_1) == 0:\n",
        "  print(\"No sonriendo\")\n",
        "else:\n",
        "  print(\"Sonriendo\")\n",
        "print(modelo.predict(hog_1))"
      ],
      "metadata": {
        "colab": {
          "base_uri": "https://localhost:8080/",
          "height": 116
        },
        "id": "4ZvrHK5gPO04",
        "outputId": "fe35cf75-1c16-4afb-fcb2-284cbfcf63f9"
      },
      "execution_count": null,
      "outputs": [
        {
          "output_type": "display_data",
          "data": {
            "text/plain": [
              "<PIL.Image.Image image mode=L size=64x64 at 0x7F1D04F368D0>"
            ],
            "image/png": "[encoded data removed]"
          },
          "metadata": {}
        },
        {
          "output_type": "stream",
          "name": "stdout",
          "text": [
            "No sonriendo\n",
            "[0]\n"
          ]
        }
      ]
    },
    {
      "cell_type": "markdown",
      "source": [
        "Noté que en mis imagenes de prueba, cuando sonreía no me detectaba la sonrisa, siempre me ponía un 0. No sé si es debido a que la imagen no es tan cercana como todas las demas que usamos de prueba, o debido a que no se entrenó bien el modelo, ya que como mencioné anteriormente, las imagenes para entrenar el modelo tenian una diferencia muy significativa, 9000 de no sonriendo y 3000 de sonriendo."
      ],
      "metadata": {
        "id": "MhsUJ-WMQfHB"
      }
    }
  ],
  "metadata": {
    "colab": {
      "provenance": [],
      "mount_file_id": "1Gxmsmlu2kFHIhjBvSqnwpQ5GQqAx3-Qf",
      "authorship_tag": "ABX9TyP4PdvT/pWZ4+iToEQ9ezHw"
    },
    "kernelspec": {
      "display_name": "Python 3",
      "name": "python3"
    },
    "language_info": {
      "name": "python"
    }
  },
  "nbformat": 4,
  "nbformat_minor": 0
}